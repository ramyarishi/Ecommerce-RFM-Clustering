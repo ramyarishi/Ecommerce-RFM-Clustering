{
 "cells": [
  {
   "cell_type": "markdown",
   "id": "2dc03c75-0052-4b3c-8382-868c3efe21e4",
   "metadata": {},
   "source": [
    "# Business Problem \n",
    "\r",
    "**How can the online retail company optimize its sales strategy, identify key customer segments, and improve inventory management based on historical transaction data from December 2010 to December 2011?**\n",
    "\n",
    "\n",
    "Business Objectives\n",
    "- Identify high-value customers for loyalty programs.\n",
    "- Recognize churn-risk customers and apply re-engagement tactics.\n",
    "- Improve marketing campaigns with personalized targeting.\n",
    "- Optimize customer lifetime value (CLV) and revenue."
   ]
  },
  {
   "cell_type": "code",
   "execution_count": 4,
   "id": "3cafe92d-82a2-4f38-9b29-3a1dfda08c4e",
   "metadata": {},
   "outputs": [],
   "source": [
    "import pandas as pd\n",
    "import numpy as np\n",
    "import matplotlib.pyplot as plt\n",
    "import seaborn as sns\n",
    "import warnings \n",
    "warnings.simplefilter('ignore')"
   ]
  },
  {
   "cell_type": "markdown",
   "id": "36d40cfc-3bb1-4fa6-bf9e-b990660572d4",
   "metadata": {},
   "source": [
    "# DATA UNDERSTANDING\n",
    "**COLLECT AND LOAD THE DATA**"
   ]
  },
  {
   "cell_type": "code",
   "execution_count": 5,
   "id": "10e27da0-0d3b-43c5-a3dc-e22c8a42c25c",
   "metadata": {},
   "outputs": [
    {
     "data": {
      "text/html": [
       "<div>\n",
       "<style scoped>\n",
       "    .dataframe tbody tr th:only-of-type {\n",
       "        vertical-align: middle;\n",
       "    }\n",
       "\n",
       "    .dataframe tbody tr th {\n",
       "        vertical-align: top;\n",
       "    }\n",
       "\n",
       "    .dataframe thead th {\n",
       "        text-align: right;\n",
       "    }\n",
       "</style>\n",
       "<table border=\"1\" class=\"dataframe\">\n",
       "  <thead>\n",
       "    <tr style=\"text-align: right;\">\n",
       "      <th></th>\n",
       "      <th>InvoiceNo</th>\n",
       "      <th>StockCode</th>\n",
       "      <th>Description</th>\n",
       "      <th>Quantity</th>\n",
       "      <th>InvoiceDate</th>\n",
       "      <th>UnitPrice</th>\n",
       "      <th>CustomerID</th>\n",
       "      <th>Country</th>\n",
       "    </tr>\n",
       "  </thead>\n",
       "  <tbody>\n",
       "    <tr>\n",
       "      <th>0</th>\n",
       "      <td>536365</td>\n",
       "      <td>85123A</td>\n",
       "      <td>WHITE HANGING HEART T-LIGHT HOLDER</td>\n",
       "      <td>6</td>\n",
       "      <td>12/1/2010 8:26</td>\n",
       "      <td>2.55</td>\n",
       "      <td>17850.0</td>\n",
       "      <td>United Kingdom</td>\n",
       "    </tr>\n",
       "    <tr>\n",
       "      <th>1</th>\n",
       "      <td>536365</td>\n",
       "      <td>71053</td>\n",
       "      <td>WHITE METAL LANTERN</td>\n",
       "      <td>6</td>\n",
       "      <td>12/1/2010 8:26</td>\n",
       "      <td>3.39</td>\n",
       "      <td>17850.0</td>\n",
       "      <td>United Kingdom</td>\n",
       "    </tr>\n",
       "    <tr>\n",
       "      <th>2</th>\n",
       "      <td>536365</td>\n",
       "      <td>84406B</td>\n",
       "      <td>CREAM CUPID HEARTS COAT HANGER</td>\n",
       "      <td>8</td>\n",
       "      <td>12/1/2010 8:26</td>\n",
       "      <td>2.75</td>\n",
       "      <td>17850.0</td>\n",
       "      <td>United Kingdom</td>\n",
       "    </tr>\n",
       "    <tr>\n",
       "      <th>3</th>\n",
       "      <td>536365</td>\n",
       "      <td>84029G</td>\n",
       "      <td>KNITTED UNION FLAG HOT WATER BOTTLE</td>\n",
       "      <td>6</td>\n",
       "      <td>12/1/2010 8:26</td>\n",
       "      <td>3.39</td>\n",
       "      <td>17850.0</td>\n",
       "      <td>United Kingdom</td>\n",
       "    </tr>\n",
       "    <tr>\n",
       "      <th>4</th>\n",
       "      <td>536365</td>\n",
       "      <td>84029E</td>\n",
       "      <td>RED WOOLLY HOTTIE WHITE HEART.</td>\n",
       "      <td>6</td>\n",
       "      <td>12/1/2010 8:26</td>\n",
       "      <td>3.39</td>\n",
       "      <td>17850.0</td>\n",
       "      <td>United Kingdom</td>\n",
       "    </tr>\n",
       "    <tr>\n",
       "      <th>...</th>\n",
       "      <td>...</td>\n",
       "      <td>...</td>\n",
       "      <td>...</td>\n",
       "      <td>...</td>\n",
       "      <td>...</td>\n",
       "      <td>...</td>\n",
       "      <td>...</td>\n",
       "      <td>...</td>\n",
       "    </tr>\n",
       "    <tr>\n",
       "      <th>541904</th>\n",
       "      <td>581587</td>\n",
       "      <td>22613</td>\n",
       "      <td>PACK OF 20 SPACEBOY NAPKINS</td>\n",
       "      <td>12</td>\n",
       "      <td>12/9/2011 12:50</td>\n",
       "      <td>0.85</td>\n",
       "      <td>12680.0</td>\n",
       "      <td>France</td>\n",
       "    </tr>\n",
       "    <tr>\n",
       "      <th>541905</th>\n",
       "      <td>581587</td>\n",
       "      <td>22899</td>\n",
       "      <td>CHILDREN'S APRON DOLLY GIRL</td>\n",
       "      <td>6</td>\n",
       "      <td>12/9/2011 12:50</td>\n",
       "      <td>2.10</td>\n",
       "      <td>12680.0</td>\n",
       "      <td>France</td>\n",
       "    </tr>\n",
       "    <tr>\n",
       "      <th>541906</th>\n",
       "      <td>581587</td>\n",
       "      <td>23254</td>\n",
       "      <td>CHILDRENS CUTLERY DOLLY GIRL</td>\n",
       "      <td>4</td>\n",
       "      <td>12/9/2011 12:50</td>\n",
       "      <td>4.15</td>\n",
       "      <td>12680.0</td>\n",
       "      <td>France</td>\n",
       "    </tr>\n",
       "    <tr>\n",
       "      <th>541907</th>\n",
       "      <td>581587</td>\n",
       "      <td>23255</td>\n",
       "      <td>CHILDRENS CUTLERY CIRCUS PARADE</td>\n",
       "      <td>4</td>\n",
       "      <td>12/9/2011 12:50</td>\n",
       "      <td>4.15</td>\n",
       "      <td>12680.0</td>\n",
       "      <td>France</td>\n",
       "    </tr>\n",
       "    <tr>\n",
       "      <th>541908</th>\n",
       "      <td>581587</td>\n",
       "      <td>22138</td>\n",
       "      <td>BAKING SET 9 PIECE RETROSPOT</td>\n",
       "      <td>3</td>\n",
       "      <td>12/9/2011 12:50</td>\n",
       "      <td>4.95</td>\n",
       "      <td>12680.0</td>\n",
       "      <td>France</td>\n",
       "    </tr>\n",
       "  </tbody>\n",
       "</table>\n",
       "<p>541909 rows × 8 columns</p>\n",
       "</div>"
      ],
      "text/plain": [
       "       InvoiceNo StockCode                          Description  Quantity  \\\n",
       "0         536365    85123A   WHITE HANGING HEART T-LIGHT HOLDER         6   \n",
       "1         536365     71053                  WHITE METAL LANTERN         6   \n",
       "2         536365    84406B       CREAM CUPID HEARTS COAT HANGER         8   \n",
       "3         536365    84029G  KNITTED UNION FLAG HOT WATER BOTTLE         6   \n",
       "4         536365    84029E       RED WOOLLY HOTTIE WHITE HEART.         6   \n",
       "...          ...       ...                                  ...       ...   \n",
       "541904    581587     22613          PACK OF 20 SPACEBOY NAPKINS        12   \n",
       "541905    581587     22899         CHILDREN'S APRON DOLLY GIRL          6   \n",
       "541906    581587     23254        CHILDRENS CUTLERY DOLLY GIRL          4   \n",
       "541907    581587     23255      CHILDRENS CUTLERY CIRCUS PARADE         4   \n",
       "541908    581587     22138        BAKING SET 9 PIECE RETROSPOT          3   \n",
       "\n",
       "            InvoiceDate  UnitPrice  CustomerID         Country  \n",
       "0        12/1/2010 8:26       2.55     17850.0  United Kingdom  \n",
       "1        12/1/2010 8:26       3.39     17850.0  United Kingdom  \n",
       "2        12/1/2010 8:26       2.75     17850.0  United Kingdom  \n",
       "3        12/1/2010 8:26       3.39     17850.0  United Kingdom  \n",
       "4        12/1/2010 8:26       3.39     17850.0  United Kingdom  \n",
       "...                 ...        ...         ...             ...  \n",
       "541904  12/9/2011 12:50       0.85     12680.0          France  \n",
       "541905  12/9/2011 12:50       2.10     12680.0          France  \n",
       "541906  12/9/2011 12:50       4.15     12680.0          France  \n",
       "541907  12/9/2011 12:50       4.15     12680.0          France  \n",
       "541908  12/9/2011 12:50       4.95     12680.0          France  \n",
       "\n",
       "[541909 rows x 8 columns]"
      ]
     },
     "execution_count": 5,
     "metadata": {},
     "output_type": "execute_result"
    }
   ],
   "source": [
    "df = pd.read_csv(r\"C:\\Users\\L.RAMYA\\Downloads\\data.csv\", encoding='ISO-8859-1')\n",
    "df"
   ]
  },
  {
   "cell_type": "markdown",
   "id": "1154e1da-5bfc-4dd6-a4ba-a8d4a497ba2f",
   "metadata": {},
   "source": [
    "- Term | Meaning\n",
    "- InvoiceNo | Unique ID for a transaction\n",
    "- StockCode | Unique ID for a product\n",
    "- Description | Product name\n",
    "- Quantity | Number of items purchased\n",
    "- InvoiceDate | Date and time of transaction\n",
    "- UnitPrice | Price per unit of the item\n",
    "- CustomerID | Unique ID for each customer\n",
    "- Country | Country where the customer is from"
   ]
  },
  {
   "cell_type": "code",
   "execution_count": 6,
   "id": "be644180-1fb0-4d35-a126-45f710a3a9ed",
   "metadata": {},
   "outputs": [
    {
     "data": {
      "text/plain": [
       "(541909, 8)"
      ]
     },
     "execution_count": 6,
     "metadata": {},
     "output_type": "execute_result"
    }
   ],
   "source": [
    "df.shape"
   ]
  },
  {
   "cell_type": "markdown",
   "id": "569a2422-c3ef-4a09-ba97-00dbab2a154d",
   "metadata": {},
   "source": [
    "**\"The dataset contains 541,909 rows and 8 columns.\"**"
   ]
  },
  {
   "cell_type": "code",
   "execution_count": 7,
   "id": "9bc2ec4d-3807-4679-8ad9-d86f780ab4dd",
   "metadata": {},
   "outputs": [
    {
     "name": "stdout",
     "output_type": "stream",
     "text": [
      "<class 'pandas.core.frame.DataFrame'>\n",
      "RangeIndex: 541909 entries, 0 to 541908\n",
      "Data columns (total 8 columns):\n",
      " #   Column       Non-Null Count   Dtype  \n",
      "---  ------       --------------   -----  \n",
      " 0   InvoiceNo    541909 non-null  object \n",
      " 1   StockCode    541909 non-null  object \n",
      " 2   Description  540455 non-null  object \n",
      " 3   Quantity     541909 non-null  int64  \n",
      " 4   InvoiceDate  541909 non-null  object \n",
      " 5   UnitPrice    541909 non-null  float64\n",
      " 6   CustomerID   406829 non-null  float64\n",
      " 7   Country      541909 non-null  object \n",
      "dtypes: float64(2), int64(1), object(5)\n",
      "memory usage: 33.1+ MB\n"
     ]
    }
   ],
   "source": [
    "df.info()"
   ]
  },
  {
   "cell_type": "markdown",
   "id": "93c79140-f1f1-42ae-a499-f7df794ff563",
   "metadata": {},
   "source": [
    "**\"The dataset has 541,909 entries and 8 columns. Most columns have complete data, except for 'Description' and 'CustomerID', which have some missing values. The data types include 5 object (text) columns, 1 integer, and 2 float columns.\"**"
   ]
  },
  {
   "cell_type": "code",
   "execution_count": 8,
   "id": "db954335-58a5-4ee5-a0b0-fdf788118831",
   "metadata": {},
   "outputs": [
    {
     "data": {
      "text/plain": [
       "InvoiceNo       object\n",
       "StockCode       object\n",
       "Description     object\n",
       "Quantity         int64\n",
       "InvoiceDate     object\n",
       "UnitPrice      float64\n",
       "CustomerID     float64\n",
       "Country         object\n",
       "dtype: object"
      ]
     },
     "execution_count": 8,
     "metadata": {},
     "output_type": "execute_result"
    }
   ],
   "source": [
    "df.dtypes"
   ]
  },
  {
   "cell_type": "markdown",
   "id": "2a52d3ad-ff9a-4138-8bfd-a221e3570893",
   "metadata": {},
   "source": [
    "**\"The dataset contains object (text), integer, and float columns — with 'Quantity' as integer, 'UnitPrice' and 'CustomerID' as float, and the rest as text-based (object) types.\"**"
   ]
  },
  {
   "cell_type": "code",
   "execution_count": 9,
   "id": "90e3e7c8-a24f-4da5-be96-849c2295481e",
   "metadata": {},
   "outputs": [
    {
     "data": {
      "text/plain": [
       "['InvoiceNo',\n",
       " 'StockCode',\n",
       " 'Description',\n",
       " 'Quantity',\n",
       " 'InvoiceDate',\n",
       " 'UnitPrice',\n",
       " 'CustomerID',\n",
       " 'Country']"
      ]
     },
     "execution_count": 9,
     "metadata": {},
     "output_type": "execute_result"
    }
   ],
   "source": [
    "df.columns.to_list()"
   ]
  },
  {
   "cell_type": "markdown",
   "id": "beb81b19-e563-4e65-a7c8-c7ebbf6bbf1f",
   "metadata": {},
   "source": [
    "**\"The dataset has 8 columns capturing invoice details, product info, quantities, pricing, customer IDs, and country-wise transactions.\"**"
   ]
  },
  {
   "cell_type": "code",
   "execution_count": 10,
   "id": "d428627e-c9aa-49cc-9277-f16dd430877e",
   "metadata": {},
   "outputs": [
    {
     "data": {
      "text/plain": [
       "array(['536365', '536366', '536367', ..., '581585', '581586', '581587'],\n",
       "      dtype=object)"
      ]
     },
     "execution_count": 10,
     "metadata": {},
     "output_type": "execute_result"
    }
   ],
   "source": [
    "df['InvoiceNo'].unique()"
   ]
  },
  {
   "cell_type": "markdown",
   "id": "f176136b-c48c-4617-83bf-96b4a30e86b8",
   "metadata": {},
   "source": [
    "**The InvoiceNo column contains unique identifiers for each transaction, indicating individual invoices. These values are stored as strings and may represent different purchases or orders, often used to group or analyze transaction-level data.**"
   ]
  },
  {
   "cell_type": "code",
   "execution_count": 11,
   "id": "56cd9f43-c577-451d-900b-9cc25dce94b0",
   "metadata": {},
   "outputs": [
    {
     "data": {
      "text/plain": [
       "array(['85123A', '71053', '84406B', ..., '90214U', '47591b', '23843'],\n",
       "      dtype=object)"
      ]
     },
     "execution_count": 11,
     "metadata": {},
     "output_type": "execute_result"
    }
   ],
   "source": [
    "df['StockCode'].unique()"
   ]
  },
  {
   "cell_type": "markdown",
   "id": "b51357bd-f089-4018-bf40-67c5f6d4a006",
   "metadata": {},
   "source": [
    "**The StockCode column contains product codes or item identifiers, represented as strings. These codes uniquely identify the items being sold. The variation in formats (e.g., alphanumeric like '85123A', all digits like '71053', or lowercase like '47591b') suggests a mix of standard and possibly special codes (like discounts, returns, or custom items)**\n",
    "\n",
    "\n",
    "\n",
    "\n",
    "\n",
    "\n",
    "\n",
    "\n"
   ]
  },
  {
   "cell_type": "code",
   "execution_count": 12,
   "id": "777f673a-a2bf-4bb9-ad15-c229ae6b8099",
   "metadata": {},
   "outputs": [
    {
     "data": {
      "text/plain": [
       "array(['WHITE HANGING HEART T-LIGHT HOLDER', 'WHITE METAL LANTERN',\n",
       "       'CREAM CUPID HEARTS COAT HANGER', ..., 'lost',\n",
       "       'CREAM HANGING HEART T-LIGHT HOLDER',\n",
       "       'PAPER CRAFT , LITTLE BIRDIE'], dtype=object)"
      ]
     },
     "execution_count": 12,
     "metadata": {},
     "output_type": "execute_result"
    }
   ],
   "source": [
    "df['Description'].unique()"
   ]
  },
  {
   "cell_type": "markdown",
   "id": "83d0937d-d35c-4bcf-905b-9bc3d6ea366c",
   "metadata": {},
   "source": [
    "**The Description column contains textual product descriptions with various home decor and seasonal items. It includes potential errors like \"lost,\" which could indicate missing or unlisted products.**"
   ]
  },
  {
   "cell_type": "code",
   "execution_count": 13,
   "id": "06efa997-3237-4643-85ab-9b7a50dbf266",
   "metadata": {},
   "outputs": [
    {
     "data": {
      "text/plain": [
       "array(['12/1/2010 8:26', '12/1/2010 8:28', '12/1/2010 8:34', ...,\n",
       "       '12/9/2011 12:31', '12/9/2011 12:49', '12/9/2011 12:50'],\n",
       "      dtype=object)"
      ]
     },
     "execution_count": 13,
     "metadata": {},
     "output_type": "execute_result"
    }
   ],
   "source": [
    "df['InvoiceDate'].unique()"
   ]
  },
  {
   "cell_type": "markdown",
   "id": "ebf16567-6e1e-44c9-96b1-2dffc7220175",
   "metadata": {},
   "source": [
    "**The InvoiceDate column contains date and time values in the format 'MM/DD/YYYY HH:MM', representing when the transaction occurred. The dates range from December 1, 2010, to December 9, 2011.**"
   ]
  },
  {
   "cell_type": "code",
   "execution_count": 14,
   "id": "ec628b0c-8b40-42d3-96d8-a8b35e46f4b1",
   "metadata": {},
   "outputs": [
    {
     "data": {
      "text/plain": [
       "array([   2.55,    3.39,    2.75, ...,  933.17, 1714.17,  224.69])"
      ]
     },
     "execution_count": 14,
     "metadata": {},
     "output_type": "execute_result"
    }
   ],
   "source": [
    "df['UnitPrice'].unique()"
   ]
  },
  {
   "cell_type": "markdown",
   "id": "173caed3-cf29-4572-a24e-92cbef280ed6",
   "metadata": {},
   "source": [
    "**The UnitPrice column contains the prices of individual items, with values ranging from 2.55 to 1714.17, reflecting a wide variety of products sold in the dataset.**"
   ]
  },
  {
   "cell_type": "code",
   "execution_count": 15,
   "id": "73c49241-9f7e-4e73-bc6d-d520d0eea351",
   "metadata": {},
   "outputs": [
    {
     "data": {
      "text/plain": [
       "array([17850., 13047., 12583., ..., 13298., 14569., 12713.])"
      ]
     },
     "execution_count": 15,
     "metadata": {},
     "output_type": "execute_result"
    }
   ],
   "source": [
    "df['CustomerID'].unique()"
   ]
  },
  {
   "cell_type": "markdown",
   "id": "48aa8b91-0e72-4676-8f94-844cbdbf12e5",
   "metadata": {},
   "source": [
    "**The CustomerID column contains unique identifiers for customers, with values like 17850, 13047, 12583, etc., representing different customers in the dataset.**"
   ]
  },
  {
   "cell_type": "code",
   "execution_count": 16,
   "id": "a803b515-e3d3-4cfe-8b82-5a537ca993b8",
   "metadata": {},
   "outputs": [
    {
     "data": {
      "text/plain": [
       "array(['United Kingdom', 'France', 'Australia', 'Netherlands', 'Germany',\n",
       "       'Norway', 'EIRE', 'Switzerland', 'Spain', 'Poland', 'Portugal',\n",
       "       'Italy', 'Belgium', 'Lithuania', 'Japan', 'Iceland',\n",
       "       'Channel Islands', 'Denmark', 'Cyprus', 'Sweden', 'Austria',\n",
       "       'Israel', 'Finland', 'Bahrain', 'Greece', 'Hong Kong', 'Singapore',\n",
       "       'Lebanon', 'United Arab Emirates', 'Saudi Arabia',\n",
       "       'Czech Republic', 'Canada', 'Unspecified', 'Brazil', 'USA',\n",
       "       'European Community', 'Malta', 'RSA'], dtype=object)"
      ]
     },
     "execution_count": 16,
     "metadata": {},
     "output_type": "execute_result"
    }
   ],
   "source": [
    "df['Country'].unique()"
   ]
  },
  {
   "cell_type": "markdown",
   "id": "addf0fc5-ab7e-4ed0-985b-e33ae8a25348",
   "metadata": {},
   "source": [
    "**The Country column contains the names of countries, such as the United Kingdom, France, Australia, USA, and Brazil, along with some unspecified entries like 'Unspecified' and 'European Community'.**"
   ]
  },
  {
   "cell_type": "code",
   "execution_count": 17,
   "id": "54d7c955-ce46-49e2-9f9d-19d5fe7ebe32",
   "metadata": {},
   "outputs": [
    {
     "data": {
      "text/plain": [
       "array([     6,      8,      2,     32,      3,      4,     24,     12,\n",
       "           48,     18,     20,     36,     80,     64,     10,    120,\n",
       "           96,     23,      5,      1,     -1,     50,     40,    100,\n",
       "          192,    432,    144,    288,    -12,    -24,     16,      9,\n",
       "          128,     25,     30,     28,      7,     56,     72,    200,\n",
       "          600,    480,     -6,     14,     -2,     11,     33,     13,\n",
       "           -4,     -5,     -7,     -3,     70,    252,     60,    216,\n",
       "          384,    -10,     27,     15,     22,     19,     17,     21,\n",
       "           34,     47,    108,     52,  -9360,    -38,     75,    270,\n",
       "           42,    240,     90,    320,   1824,    204,     69,    -36,\n",
       "         -192,   -144,    160,   2880,   1400,     39,    -48,    -50,\n",
       "           26,   1440,     31,     82,     78,     97,     98,     35,\n",
       "           57,    -20,    110,    -22,    -30,    -70,   -130,    -80,\n",
       "         -120,    -40,    -25,    -14,    -15,    -69,   -140,   -320,\n",
       "           -8,    720,    156,    324,     38,     37,     49,     95,\n",
       "           -9,    -11,     29,     41,    -72,    -35,    -21,    -43,\n",
       "          -19,    -18,    -44,    402,    378,    150,    300,     54,\n",
       "          104,     67,    258,     66,     44,     55,     46,     99,\n",
       "           61,    408,    972,    208,   1008,   1000,    -77,   1488,\n",
       "          250,   1394,    400,   -223,   -150,    -13,    -33,   -723,\n",
       "         -177,     79,     84,    -32,   -100,    -28,    272,   -145,\n",
       "          -47,    -96,    113,     45,    106,     68,    267,    115,\n",
       "           65,   1728,    -60,    -16,     53,   -240,     76,    460,\n",
       "           71,     43,    213,     58,    576,   2400,    500,    180,\n",
       "         -300,   -500,    -23,    752,    960,   1296,    210,    172,\n",
       "          215,    129,    138,    116,    135,    197,   -106,    -54,\n",
       "          -17,   -939,    147,    168,    256,   -201,    -53,    -29,\n",
       "        -2600,   -990,   -290,    -45,    860,   1010,   1356,   1284,\n",
       "          186,    114,    360,   1930,   2000,   3114,   1300,    670,\n",
       "          111,    211,     59,   -310,    -61,    -41,    176,    648,\n",
       "           62,  74215, -74215,    -64,    -84,     89,  -1400,     73,\n",
       "          -57,    112,    456,    -59,    -31,   5568,   2560,    136,\n",
       "          900,   -600,    -42,    -94,   -207,    -52,    130,   -206,\n",
       "         2592,    420,    800,    101,   1200,    864,   -217,     94,\n",
       "        -1430,   1287,   -162,   -230,   -173,   -390,   -234,    504,\n",
       "          123,    118,    -76,   -200,   1056,   1500,    280,    407,\n",
       "          141,    124,    -99,     51,    -92,   -741,   3906,   -400,\n",
       "         -114,    102,   1152,    -88,    198,    117,     86,   -720,\n",
       "          125,    -86,   -391,    -87,   -278,    140,    228,   -154,\n",
       "        -3000,     81,   -675,   -210,   -345,   -975,  -1200,  -1121,\n",
       "          -27,   -541,  -1277,   -197,   3000,  -1100,    -63,  -5368,\n",
       "          219,   -259,    232,    -82,   -178,    170,   -110,    768,\n",
       "           88,    700,   -102,   2160,   -323,   -450,   -232,    -83,\n",
       "         -153,   -524,  -2472,    -49,   -105,    342,    304,    167,\n",
       "          -34,    640,    175,    220,     74,     93,    164,    163,\n",
       "           63,    637,    122,    158,    165,    350,    -46,    -75,\n",
       "         -690,    -39,    -66,     83,    312,   -180,    392,   -624,\n",
       "         -194,    -26,    -62,    -37,    -91,   -139,   -158,  -1479,\n",
       "          -55,   -576,   -750,    330,    151,    -93,   -432,    -58,\n",
       "        -1092,   -670,  -1300,  -1930,  -2000,  -3114,    462,    -65,\n",
       "          -68,    492,   -620,    273,    -90,   -170,  -1512,    -51,\n",
       "           85,    -56,   -160,   -360,    105,   -960,  -2376,   1350,\n",
       "          428,  -1350,    336,   -786,   -590,   -168,   -101,    -71,\n",
       "          132,   -413,   -664,    227,   2700,    222,    246,    906,\n",
       "          756,    888,    552,    -97,    224,    738,    608,   -212,\n",
       "         4300,    146,    143,    276,   -125,   -116,   -108,   4000,\n",
       "         -304,   -272,  -1206,    -95,   1600,    323,   -161,   -472,\n",
       "         -618,   -204,   1515,  -1515,  -9058,  -9600,    660,   -420,\n",
       "         -126,   -220,   -271,  -1440,    264,    188,    588,    612,\n",
       "          152,   -324,   -480,   -164,    -78,   -118,    430,  -1681,\n",
       "           87,    155,    701,    828,    540,    696,    560,   -250,\n",
       "         -408,   -179,    121,   -124,    512,   -251,  -3100,   3100,\n",
       "         -169,    126,    291,   3186,  -2834,   -109,    109,   -121,\n",
       "         -530,   -227,    261,   -346,    352,    142,    107,   -188,\n",
       "        -1060,   -342,   -288,    348,   1900,    157,   -343,   -455,\n",
       "          425,    968,    684,    824,   -828,   -701,    196,    248,\n",
       "          410,    236,    230,   -156,   -553,    145,    448,    245,\n",
       "         -252,   -334,   -318,   -113,   -115,    171,   -242,    840,\n",
       "         -967,   -203,  -3167,   -443,  -1897,    225,   -434,    750,\n",
       "         -682,   -484,    682,    344,   -635,   -117,  -3667,    450,\n",
       "          310,    494,   -384,     92,   1788,   -138,    624,    744,\n",
       "          416,    496,    396,    306,   1878,   1944,    666,    708,\n",
       "         1428,    852,   1412,    528,   -756,   -752,   -152,    -85,\n",
       "         -312,    -79,   -147,    -67,   -131,    183,   -209,   -186,\n",
       "         -231,   -129,   -458,   -275,  -2880,   1540,    672,   -800,\n",
       "         -430,   -380,    -74,   -840,  -1296,   -365,   -104,   -270,\n",
       "          -73,   -306,     91,    255,    468,   -468,   -111,   -184,\n",
       "         -103,   -335,   4800,   -112,  -1000,    912,   1992,    184,\n",
       "          148,   -657,  -1671,  -1158,  -2618,  -2003,   -674,  -4830,\n",
       "         -905,  -1128,    832,    992,    630,   1020,   2100,    162,\n",
       "        -1560,  -1284,    -81,    314,    370,    131,    133,    484,\n",
       "          149,    153,    257,    139,    137,    628,    179,   1820,\n",
       "          478,    335,    253,    242,    375,   -276,   -256,    281,\n",
       "          193,    181,    404,    244,    207,    199,   1130,    326,\n",
       "          654,    688,    268,    249,   -864,    234,  -1510,   -550,\n",
       "         -244,   -132,   -327,   -313,    279,   -398,   -280,    374,\n",
       "         -504,   -696,   -149,   -224,   -428,    212,   -267,   -175,\n",
       "        12540,    760,    -98,    774,   -151,   2040,  -1131,   -135,\n",
       "         1120,     77,   -900,    177,    490,    388,    620,   1404,\n",
       "         -155,   -355,   -337,  -1050,   -338,    205,   -235,    698,\n",
       "        80995, -80995], dtype=int64)"
      ]
     },
     "execution_count": 17,
     "metadata": {},
     "output_type": "execute_result"
    }
   ],
   "source": [
    "df['Quantity'].unique()"
   ]
  },
  {
   "cell_type": "markdown",
   "id": "5552688e-1ba0-48bf-abcc-8e824ef1931e",
   "metadata": {},
   "source": [
    "**The Quantity column contains the number of items purchased in each transaction. It includes positive and negative values, with positive values indicating normal purchases and negative values possibly representing returns or corrections. Some extreme values like 80995 and -80995 are also present.**"
   ]
  },
  {
   "cell_type": "markdown",
   "id": "7bfcfc67-7078-4a6e-8b8e-d91a3ae1dd5c",
   "metadata": {},
   "source": [
    "# Exploratory Data Analysis(EDA)\n"
   ]
  },
  {
   "cell_type": "code",
   "execution_count": 18,
   "id": "64b2561e-2d2f-406d-874c-68fbc2bbd429",
   "metadata": {},
   "outputs": [],
   "source": [
    "continous = ['Quantity', 'UnitPrice','CustomerID']\n",
    "categorical = ['InvoiceNo', 'StockCode', 'Description', 'Country']\n",
    "time_series = ['InvoiceDate']\n"
   ]
  },
  {
   "cell_type": "code",
   "execution_count": 19,
   "id": "00e25f34-57bf-4cfa-b55f-c7675bda597e",
   "metadata": {},
   "outputs": [
    {
     "data": {
      "text/html": [
       "<div>\n",
       "<style scoped>\n",
       "    .dataframe tbody tr th:only-of-type {\n",
       "        vertical-align: middle;\n",
       "    }\n",
       "\n",
       "    .dataframe tbody tr th {\n",
       "        vertical-align: top;\n",
       "    }\n",
       "\n",
       "    .dataframe thead th {\n",
       "        text-align: right;\n",
       "    }\n",
       "</style>\n",
       "<table border=\"1\" class=\"dataframe\">\n",
       "  <thead>\n",
       "    <tr style=\"text-align: right;\">\n",
       "      <th></th>\n",
       "      <th>Quantity</th>\n",
       "      <th>UnitPrice</th>\n",
       "      <th>CustomerID</th>\n",
       "    </tr>\n",
       "  </thead>\n",
       "  <tbody>\n",
       "    <tr>\n",
       "      <th>count</th>\n",
       "      <td>541909.000000</td>\n",
       "      <td>541909.000000</td>\n",
       "      <td>406829.000000</td>\n",
       "    </tr>\n",
       "    <tr>\n",
       "      <th>mean</th>\n",
       "      <td>9.552250</td>\n",
       "      <td>4.611114</td>\n",
       "      <td>15287.690570</td>\n",
       "    </tr>\n",
       "    <tr>\n",
       "      <th>std</th>\n",
       "      <td>218.081158</td>\n",
       "      <td>96.759853</td>\n",
       "      <td>1713.600303</td>\n",
       "    </tr>\n",
       "    <tr>\n",
       "      <th>min</th>\n",
       "      <td>-80995.000000</td>\n",
       "      <td>-11062.060000</td>\n",
       "      <td>12346.000000</td>\n",
       "    </tr>\n",
       "    <tr>\n",
       "      <th>25%</th>\n",
       "      <td>1.000000</td>\n",
       "      <td>1.250000</td>\n",
       "      <td>13953.000000</td>\n",
       "    </tr>\n",
       "    <tr>\n",
       "      <th>50%</th>\n",
       "      <td>3.000000</td>\n",
       "      <td>2.080000</td>\n",
       "      <td>15152.000000</td>\n",
       "    </tr>\n",
       "    <tr>\n",
       "      <th>75%</th>\n",
       "      <td>10.000000</td>\n",
       "      <td>4.130000</td>\n",
       "      <td>16791.000000</td>\n",
       "    </tr>\n",
       "    <tr>\n",
       "      <th>max</th>\n",
       "      <td>80995.000000</td>\n",
       "      <td>38970.000000</td>\n",
       "      <td>18287.000000</td>\n",
       "    </tr>\n",
       "  </tbody>\n",
       "</table>\n",
       "</div>"
      ],
      "text/plain": [
       "            Quantity      UnitPrice     CustomerID\n",
       "count  541909.000000  541909.000000  406829.000000\n",
       "mean        9.552250       4.611114   15287.690570\n",
       "std       218.081158      96.759853    1713.600303\n",
       "min    -80995.000000  -11062.060000   12346.000000\n",
       "25%         1.000000       1.250000   13953.000000\n",
       "50%         3.000000       2.080000   15152.000000\n",
       "75%        10.000000       4.130000   16791.000000\n",
       "max     80995.000000   38970.000000   18287.000000"
      ]
     },
     "execution_count": 19,
     "metadata": {},
     "output_type": "execute_result"
    }
   ],
   "source": [
    "df[continous].describe()\n"
   ]
  },
  {
   "cell_type": "markdown",
   "id": "1ef172f2-0c25-443e-afb5-8a10d2bcc245",
   "metadata": {},
   "source": [
    "\n",
    "- CustomerID has missing values → Remove rows without CustomerID.\n",
    "- Quantity contains negative values (returns/refunds) → Filter out invalid transactions.\n",
    "- InvoiceDate is stored as text → Convert it to datetime format.\n",
    "- UnitPrice has extreme outliers (negative prices) → Validate & clean.**"
   ]
  },
  {
   "cell_type": "code",
   "execution_count": 20,
   "id": "9ca5fdec-2e2b-4fbe-ae9a-d3e2c6a86f2d",
   "metadata": {},
   "outputs": [
    {
     "data": {
      "text/html": [
       "<div>\n",
       "<style scoped>\n",
       "    .dataframe tbody tr th:only-of-type {\n",
       "        vertical-align: middle;\n",
       "    }\n",
       "\n",
       "    .dataframe tbody tr th {\n",
       "        vertical-align: top;\n",
       "    }\n",
       "\n",
       "    .dataframe thead th {\n",
       "        text-align: right;\n",
       "    }\n",
       "</style>\n",
       "<table border=\"1\" class=\"dataframe\">\n",
       "  <thead>\n",
       "    <tr style=\"text-align: right;\">\n",
       "      <th></th>\n",
       "      <th>InvoiceNo</th>\n",
       "      <th>StockCode</th>\n",
       "      <th>Description</th>\n",
       "      <th>Country</th>\n",
       "    </tr>\n",
       "  </thead>\n",
       "  <tbody>\n",
       "    <tr>\n",
       "      <th>count</th>\n",
       "      <td>541909</td>\n",
       "      <td>541909</td>\n",
       "      <td>540455</td>\n",
       "      <td>541909</td>\n",
       "    </tr>\n",
       "    <tr>\n",
       "      <th>unique</th>\n",
       "      <td>25900</td>\n",
       "      <td>4070</td>\n",
       "      <td>4223</td>\n",
       "      <td>38</td>\n",
       "    </tr>\n",
       "    <tr>\n",
       "      <th>top</th>\n",
       "      <td>573585</td>\n",
       "      <td>85123A</td>\n",
       "      <td>WHITE HANGING HEART T-LIGHT HOLDER</td>\n",
       "      <td>United Kingdom</td>\n",
       "    </tr>\n",
       "    <tr>\n",
       "      <th>freq</th>\n",
       "      <td>1114</td>\n",
       "      <td>2313</td>\n",
       "      <td>2369</td>\n",
       "      <td>495478</td>\n",
       "    </tr>\n",
       "  </tbody>\n",
       "</table>\n",
       "</div>"
      ],
      "text/plain": [
       "       InvoiceNo StockCode                         Description         Country\n",
       "count     541909    541909                              540455          541909\n",
       "unique     25900      4070                                4223              38\n",
       "top       573585    85123A  WHITE HANGING HEART T-LIGHT HOLDER  United Kingdom\n",
       "freq        1114      2313                                2369          495478"
      ]
     },
     "execution_count": 20,
     "metadata": {},
     "output_type": "execute_result"
    }
   ],
   "source": [
    "df[categorical].describe()"
   ]
  },
  {
   "cell_type": "markdown",
   "id": "c8b23abe-c266-493b-a429-2132e6c73543",
   "metadata": {},
   "source": [
    "**The dataset has 541,909 entries with 25,900 unique invoice numbers, 4,070 unique stock codes, 4,223 unique product descriptions, and 38 unique countries, with the most frequent values being InvoiceNo 573585, StockCode 85123A, Description \"WHITE HANGING HEART T-LIGHT HOLDER\", and Country \"United Kingdom\".**\n",
    "\n",
    "\n",
    "\n",
    "\n",
    "\n",
    "\n",
    "\n",
    "\n"
   ]
  },
  {
   "cell_type": "code",
   "execution_count": 21,
   "id": "39316576-1323-49a4-b9cc-ee99cc49ce97",
   "metadata": {},
   "outputs": [
    {
     "data": {
      "image/png": "[encoded data removed]",
      "text/plain": [
       "<Figure size 640x480 with 1 Axes>"
      ]
     },
     "metadata": {},
     "output_type": "display_data"
    }
   ],
   "source": [
    "sns.boxplot(df[continous])\n",
    "plt.show()"
   ]
  },
  {
   "cell_type": "markdown",
   "id": "d98532c2-26cc-42c0-bb15-97e5943a2646",
   "metadata": {},
   "source": [
    "**The presence of outliers in the \"Quantity\" and \"UnitPrice\" columns is indicated by the boxplot. Outliers are typically represented as points outside the \"whiskers\" of the boxplot. These values can be unusually high or low compared to the rest of the data.**"
   ]
  },
  {
   "cell_type": "markdown",
   "id": "c981c17b-38bb-44ff-a695-b51bfa002e72",
   "metadata": {},
   "source": [
    "# Data cleaning"
   ]
  },
  {
   "cell_type": "markdown",
   "id": "f2281c97-9d5c-4d94-b4ab-d36175001e19",
   "metadata": {},
   "source": [
    "- Handling Missing & Invalid Values → Remove missing CustomerID, fix negative transactions.\n",
    "- Data Type Conversion → Convert InvoiceDate to datetime.\n",
    "- Feature Engineering → Compute TotalPrice.\n",
    "- Handling Infinite & NaN Values → Replace & clean infinite/missing values.\n",
    "- Memory Optimization → Reduce dataset size for efficiency."
   ]
  },
  {
   "cell_type": "code",
   "execution_count": 22,
   "id": "e0d983a3-94a1-48ab-b7c4-cd7069325ccd",
   "metadata": {},
   "outputs": [],
   "source": [
    "import numpy as np\n",
    "import pandas as pd\n",
    "\n",
    "# Drop rows with missing CustomerID\n",
    "df.dropna(subset=[\"CustomerID\"], inplace=True)\n",
    "\n",
    "# Convert CustomerID to integer for consistency\n",
    "df[\"CustomerID\"] = df[\"CustomerID\"].astype(int)"
   ]
  },
  {
   "cell_type": "code",
   "execution_count": 23,
   "id": "84d9a047-c326-4caf-b7dd-3dcbb8939778",
   "metadata": {},
   "outputs": [],
   "source": [
    "# Remove transactions with negative quantities (returns and errors)\n",
    "df = df[df[\"Quantity\"] > 0]"
   ]
  },
  {
   "cell_type": "code",
   "execution_count": 24,
   "id": "9d890a7a-a687-4cd2-94ed-eb4653334a4c",
   "metadata": {},
   "outputs": [],
   "source": [
    "# Convert InvoiceDate to datetime format\n",
    "df[\"InvoiceDate\"] = pd.to_datetime(df[\"InvoiceDate\"])\n",
    "# Create a new column: Total Transaction Value\n",
    "df[\"TotalPrice\"] = df[\"Quantity\"] * df[\"UnitPrice\"]\n"
   ]
  },
  {
   "cell_type": "code",
   "execution_count": 25,
   "id": "3fa9e3a3-d2b9-4dd8-9005-c3fdc35df76a",
   "metadata": {},
   "outputs": [],
   "source": [
    "# Remove duplicate rows\n",
    "df.drop_duplicates(inplace=True)\n",
    "\n"
   ]
  },
  {
   "cell_type": "code",
   "execution_count": 26,
   "id": "df0016a6-f746-486b-ae76-cb5381860bdc",
   "metadata": {},
   "outputs": [
    {
     "data": {
      "text/plain": [
       "InvoiceNo      0\n",
       "StockCode      0\n",
       "Description    0\n",
       "Quantity       0\n",
       "InvoiceDate    0\n",
       "UnitPrice      0\n",
       "CustomerID     0\n",
       "Country        0\n",
       "TotalPrice     0\n",
       "dtype: int64"
      ]
     },
     "execution_count": 26,
     "metadata": {},
     "output_type": "execute_result"
    }
   ],
   "source": [
    "df.isna().sum()"
   ]
  },
  {
   "cell_type": "code",
   "execution_count": 27,
   "id": "b2846faa-5d95-479c-b4b7-aea0bc866c1c",
   "metadata": {},
   "outputs": [
    {
     "name": "stdout",
     "output_type": "stream",
     "text": [
      "<class 'pandas.core.frame.DataFrame'>\n",
      "Index: 392732 entries, 0 to 541908\n",
      "Data columns (total 9 columns):\n",
      " #   Column       Non-Null Count   Dtype         \n",
      "---  ------       --------------   -----         \n",
      " 0   InvoiceNo    392732 non-null  object        \n",
      " 1   StockCode    392732 non-null  object        \n",
      " 2   Description  392732 non-null  object        \n",
      " 3   Quantity     392732 non-null  int64         \n",
      " 4   InvoiceDate  392732 non-null  datetime64[ns]\n",
      " 5   UnitPrice    392732 non-null  float64       \n",
      " 6   CustomerID   392732 non-null  int32         \n",
      " 7   Country      392732 non-null  object        \n",
      " 8   TotalPrice   392732 non-null  float64       \n",
      "dtypes: datetime64[ns](1), float64(2), int32(1), int64(1), object(4)\n",
      "memory usage: 28.5+ MB\n"
     ]
    }
   ],
   "source": [
    "df.info()"
   ]
  },
  {
   "cell_type": "code",
   "execution_count": 28,
   "id": "d8632f95-6ca8-427b-9f8d-df83afd2fc28",
   "metadata": {},
   "outputs": [
    {
     "data": {
      "text/plain": [
       "Quantity      400.811714\n",
       "UnitPrice     202.750617\n",
       "CustomerID      0.030195\n",
       "dtype: float64"
      ]
     },
     "execution_count": 28,
     "metadata": {},
     "output_type": "execute_result"
    }
   ],
   "source": [
    "continous = ['Quantity', 'UnitPrice','CustomerID']\n",
    "df[continous].skew()"
   ]
  },
  {
   "cell_type": "code",
   "execution_count": 29,
   "id": "e6696f4d-4685-438b-86d4-edc8ed988ad9",
   "metadata": {},
   "outputs": [],
   "source": [
    "import numpy as np\n",
    "\n",
    "# Apply log transformation to 'Quantity' and 'UnitPrice' to reduce skewness\n",
    "df['Quantity'] = np.log1p(df['Quantity'])  # log(1 + x) to avoid log(0) errors\n",
    "df['UnitPrice'] = np.log1p(df['UnitPrice'])\n"
   ]
  },
  {
   "cell_type": "code",
   "execution_count": 30,
   "id": "e58eb7d5-3467-4c7f-a99a-ec79843cb1a8",
   "metadata": {},
   "outputs": [
    {
     "data": {
      "text/plain": [
       "Quantity      0.820733\n",
       "UnitPrice     0.938596\n",
       "CustomerID    0.030195\n",
       "dtype: float64"
      ]
     },
     "execution_count": 30,
     "metadata": {},
     "output_type": "execute_result"
    }
   ],
   "source": [
    "df[continous].skew()"
   ]
  },
  {
   "cell_type": "markdown",
   "id": "9b45a51e-2ca9-4ca5-9eda-5d8d87d2466b",
   "metadata": {},
   "source": [
    "**Monthly Revenue Trends**\n",
    "- Helps detect seasonal trends in sales.\n",
    "- Identifies high and low revenue months."
   ]
  },
  {
   "cell_type": "code",
   "execution_count": 31,
   "id": "7cbb76f2-5066-4685-b2b2-1f2d66904b69",
   "metadata": {},
   "outputs": [
    {
     "data": {
      "image/png": "[encoded data removed]",
      "text/plain": [
       "<Figure size 1200x600 with 1 Axes>"
      ]
     },
     "metadata": {},
     "output_type": "display_data"
    }
   ],
   "source": [
    "# Extract year-month for analysis\n",
    "df[\"YearMonth\"] = df[\"InvoiceDate\"].dt.to_period(\"M\")\n",
    "\n",
    "# Aggregate revenue by month\n",
    "monthly_revenue = df.groupby(\"YearMonth\")[\"TotalPrice\"].sum()\n",
    "\n",
    "# Visualization: Monthly Revenue Trend\n",
    "plt.figure(figsize=(12,6))\n",
    "sns.lineplot(x=monthly_revenue.index.astype(str), y=monthly_revenue.values, marker=\"o\")\n",
    "plt.xticks(rotation=45)\n",
    "plt.title(\"Monthly Revenue Trend\")\n",
    "plt.xlabel(\"Month\")\n",
    "plt.ylabel(\"Total Revenue\")\n",
    "plt.grid(True)\n",
    "plt.show()"
   ]
  },
  {
   "cell_type": "markdown",
   "id": "f8a7f75e-ea02-4520-9fee-82ca78c3504e",
   "metadata": {},
   "source": [
    "- Helps understand which markets generate the most revenue.\n",
    "- Supports expansion and localization strategies."
   ]
  },
  {
   "cell_type": "code",
   "execution_count": 32,
   "id": "0c01d937-5c48-4be0-9eb2-836151da7d9f",
   "metadata": {},
   "outputs": [
    {
     "data": {
      "image/png": "[encoded data removed]",
      "text/plain": [
       "<Figure size 1200x600 with 1 Axes>"
      ]
     },
     "metadata": {},
     "output_type": "display_data"
    }
   ],
   "source": [
    "# Aggregate revenue by country\n",
    "country_revenue = df.groupby(\"Country\")[\"TotalPrice\"].sum().sort_values(ascending=False).head(10)\n",
    "\n",
    "# Visualization: Revenue by Country\n",
    "plt.figure(figsize=(12,6))\n",
    "sns.barplot(x=country_revenue.index, y=country_revenue.values, palette=\"coolwarm\")\n",
    "plt.xticks(rotation=45)\n",
    "plt.title(\"Top 10 Countries by Revenue\")\n",
    "plt.xlabel(\"Country\")\n",
    "plt.ylabel(\"Total Revenue\")\n",
    "plt.show()\n"
   ]
  },
  {
   "cell_type": "markdown",
   "id": "a81606aa-0216-4414-b5e5-8b93e87ab7e5",
   "metadata": {},
   "source": [
    "**Customer Spending Distribution**\n",
    "- Helps differentiate high-value customers from low-value customers.\n",
    "- Supports segmentation & personalized offers."
   ]
  },
  {
   "cell_type": "code",
   "execution_count": 33,
   "id": "2dd7fa11-4f4e-4770-ae07-d9beeade8adf",
   "metadata": {},
   "outputs": [
    {
     "data": {
      "image/png": "[encoded data removed]",
      "text/plain": [
       "<Figure size 1000x500 with 1 Axes>"
      ]
     },
     "metadata": {},
     "output_type": "display_data"
    }
   ],
   "source": [
    "# Aggregate total spend per customer\n",
    "customer_spend = df.groupby(\"CustomerID\")[\"TotalPrice\"].sum()\n",
    "\n",
    "# Visualization: Customer Spending Distribution\n",
    "plt.figure(figsize=(10,5))\n",
    "sns.histplot(customer_spend, bins=50, kde=True)\n",
    "plt.title(\"Customer Spending Distribution\")\n",
    "plt.xlabel(\"Total Spend per Customer\")\n",
    "plt.ylabel(\"Customer Count\")\n",
    "plt.xlim(0, customer_spend.quantile(0.99))  # Remove extreme outliers\n",
    "plt.show()"
   ]
  },
  {
   "cell_type": "markdown",
   "id": "587ca38e-c70c-4bee-8c27-8d495c1dca9b",
   "metadata": {},
   "source": [
    " - Replaced generic revenue distribution with strategic analyses.\n",
    "\n",
    " - Added revenue trends over time to detect seasonality.\n",
    "\n",
    " - Included revenue by country to optimize market strategy.\n",
    "\n",
    " - Analyzed customer spending distribution for better segmentation."
   ]
  },
  {
   "cell_type": "code",
   "execution_count": 34,
   "id": "93dfb25f-5f30-4b59-9f80-8a484c255dfb",
   "metadata": {},
   "outputs": [
    {
     "data": {
      "text/html": [
       "<div>\n",
       "<style scoped>\n",
       "    .dataframe tbody tr th:only-of-type {\n",
       "        vertical-align: middle;\n",
       "    }\n",
       "\n",
       "    .dataframe tbody tr th {\n",
       "        vertical-align: top;\n",
       "    }\n",
       "\n",
       "    .dataframe thead th {\n",
       "        text-align: right;\n",
       "    }\n",
       "</style>\n",
       "<table border=\"1\" class=\"dataframe\">\n",
       "  <thead>\n",
       "    <tr style=\"text-align: right;\">\n",
       "      <th></th>\n",
       "      <th>Recency</th>\n",
       "      <th>Frequency</th>\n",
       "      <th>Monetary</th>\n",
       "    </tr>\n",
       "  </thead>\n",
       "  <tbody>\n",
       "    <tr>\n",
       "      <th>count</th>\n",
       "      <td>4339.000000</td>\n",
       "      <td>4339.000000</td>\n",
       "      <td>4339.000000</td>\n",
       "    </tr>\n",
       "    <tr>\n",
       "      <th>mean</th>\n",
       "      <td>91.518322</td>\n",
       "      <td>4.271952</td>\n",
       "      <td>2048.215924</td>\n",
       "    </tr>\n",
       "    <tr>\n",
       "      <th>std</th>\n",
       "      <td>100.009747</td>\n",
       "      <td>7.705493</td>\n",
       "      <td>8984.248352</td>\n",
       "    </tr>\n",
       "    <tr>\n",
       "      <th>min</th>\n",
       "      <td>0.000000</td>\n",
       "      <td>1.000000</td>\n",
       "      <td>0.000000</td>\n",
       "    </tr>\n",
       "    <tr>\n",
       "      <th>25%</th>\n",
       "      <td>17.000000</td>\n",
       "      <td>1.000000</td>\n",
       "      <td>306.455000</td>\n",
       "    </tr>\n",
       "    <tr>\n",
       "      <th>50%</th>\n",
       "      <td>50.000000</td>\n",
       "      <td>2.000000</td>\n",
       "      <td>668.560000</td>\n",
       "    </tr>\n",
       "    <tr>\n",
       "      <th>75%</th>\n",
       "      <td>141.000000</td>\n",
       "      <td>5.000000</td>\n",
       "      <td>1660.315000</td>\n",
       "    </tr>\n",
       "    <tr>\n",
       "      <th>max</th>\n",
       "      <td>373.000000</td>\n",
       "      <td>210.000000</td>\n",
       "      <td>280206.020000</td>\n",
       "    </tr>\n",
       "  </tbody>\n",
       "</table>\n",
       "</div>"
      ],
      "text/plain": [
       "           Recency    Frequency       Monetary\n",
       "count  4339.000000  4339.000000    4339.000000\n",
       "mean     91.518322     4.271952    2048.215924\n",
       "std     100.009747     7.705493    8984.248352\n",
       "min       0.000000     1.000000       0.000000\n",
       "25%      17.000000     1.000000     306.455000\n",
       "50%      50.000000     2.000000     668.560000\n",
       "75%     141.000000     5.000000    1660.315000\n",
       "max     373.000000   210.000000  280206.020000"
      ]
     },
     "execution_count": 34,
     "metadata": {},
     "output_type": "execute_result"
    }
   ],
   "source": [
    "# Define reference date (latest transaction date)\n",
    "reference_date = df[\"InvoiceDate\"].max()\n",
    "\n",
    "# Compute Recency (Days Since Last Purchase), Frequency, and Monetary Value\n",
    "rfm = df.groupby(\"CustomerID\").agg({\n",
    "    \"InvoiceDate\": lambda x: (reference_date - x.max()).days,  # Recency\n",
    "    \"InvoiceNo\": \"nunique\",  # Frequency\n",
    "    \"TotalPrice\": \"sum\"  # Monetary\n",
    "})\n",
    "\n",
    "# Rename columns\n",
    "rfm.columns = [\"Recency\", \"Frequency\", \"Monetary\"]\n",
    "\n",
    "# Display RFM table\n",
    "rfm.describe()"
   ]
  },
  {
   "cell_type": "markdown",
   "id": "475ba03a-a6ae-4202-a7fc-05dbae03a09d",
   "metadata": {},
   "source": [
    "- Key Insights from RFM Scores¶\n",
    "- High Recency : Many customers have been inactive for a long time → Win-back campaigns needed.\n",
    "- Low Frequency : Most customers do not make frequent purchases → Loyalty programs & retention strategies required.\n",
    "- Skewed Monetary Values : A small group of VIP customers generates most revenue → High-value customer retention is critical.\n"
   ]
  },
  {
   "cell_type": "markdown",
   "id": "111e3917-0803-4e0e-9e50-0ab10d49e491",
   "metadata": {},
   "source": [
    "- To effectively group customers into segments, we use K-Means Clustering. This helps identify patterns in customer behavior and allows businesses to personalize marketing strategies.\n",
    "\n"
   ]
  },
  {
   "cell_type": "markdown",
   "id": "aa1b54e5-6948-43bd-a0f0-93fcd8061a9d",
   "metadata": {},
   "source": [
    "- Before clustering, we normalize the RFM values to ensure that no feature (e.g., Monetary) dominates the clustering process. Since RFM values are on different scales, we use StandardScaler to transform them."
   ]
  },
  {
   "cell_type": "code",
   "execution_count": 36,
   "id": "9ef91294-f8df-45f3-9215-78f7f4554275",
   "metadata": {},
   "outputs": [
    {
     "data": {
      "text/html": [
       "<div>\n",
       "<style scoped>\n",
       "    .dataframe tbody tr th:only-of-type {\n",
       "        vertical-align: middle;\n",
       "    }\n",
       "\n",
       "    .dataframe tbody tr th {\n",
       "        vertical-align: top;\n",
       "    }\n",
       "\n",
       "    .dataframe thead th {\n",
       "        text-align: right;\n",
       "    }\n",
       "</style>\n",
       "<table border=\"1\" class=\"dataframe\">\n",
       "  <thead>\n",
       "    <tr style=\"text-align: right;\">\n",
       "      <th></th>\n",
       "      <th>Recency</th>\n",
       "      <th>Frequency</th>\n",
       "      <th>Monetary</th>\n",
       "    </tr>\n",
       "  </thead>\n",
       "  <tbody>\n",
       "    <tr>\n",
       "      <th>0</th>\n",
       "      <td>2.334858</td>\n",
       "      <td>-0.424675</td>\n",
       "      <td>8.363977</td>\n",
       "    </tr>\n",
       "    <tr>\n",
       "      <th>1</th>\n",
       "      <td>-0.905199</td>\n",
       "      <td>0.354080</td>\n",
       "      <td>0.251779</td>\n",
       "    </tr>\n",
       "    <tr>\n",
       "      <th>2</th>\n",
       "      <td>-0.175186</td>\n",
       "      <td>-0.035297</td>\n",
       "      <td>-0.027938</td>\n",
       "    </tr>\n",
       "    <tr>\n",
       "      <th>3</th>\n",
       "      <td>-0.735196</td>\n",
       "      <td>-0.424675</td>\n",
       "      <td>-0.032357</td>\n",
       "    </tr>\n",
       "    <tr>\n",
       "      <th>4</th>\n",
       "      <td>2.174855</td>\n",
       "      <td>-0.424675</td>\n",
       "      <td>-0.190780</td>\n",
       "    </tr>\n",
       "  </tbody>\n",
       "</table>\n",
       "</div>"
      ],
      "text/plain": [
       "    Recency  Frequency  Monetary\n",
       "0  2.334858  -0.424675  8.363977\n",
       "1 -0.905199   0.354080  0.251779\n",
       "2 -0.175186  -0.035297 -0.027938\n",
       "3 -0.735196  -0.424675 -0.032357\n",
       "4  2.174855  -0.424675 -0.190780"
      ]
     },
     "execution_count": 36,
     "metadata": {},
     "output_type": "execute_result"
    }
   ],
   "source": [
    "# Normalize the RFM values\n",
    "from sklearn.cluster import KMeans\n",
    "from sklearn.preprocessing import StandardScaler\n",
    "from yellowbrick.cluster import KElbowVisualizer\n",
    "from sklearn.metrics import silhouette_score\n",
    "scaler = StandardScaler()\n",
    "rfm_scaled = scaler.fit_transform(rfm)\n",
    "\n",
    "# Display first few rows\n",
    "pd.DataFrame(rfm_scaled, columns=[\"Recency\", \"Frequency\", \"Monetary\"]).head()"
   ]
  },
  {
   "cell_type": "markdown",
   "id": "71c17b24-982f-475e-ac40-05c4b6ee04fa",
   "metadata": {},
   "source": [
    "**Using ElbowVisualizer, we can visualize the optimal k for clustering.**"
   ]
  },
  {
   "cell_type": "code",
   "execution_count": 37,
   "id": "2259e643-8256-4d70-bff3-a71983b33d7d",
   "metadata": {},
   "outputs": [
    {
     "data": {
      "image/png": "[encoded data removed]",
      "text/plain": [
       "<Figure size 800x550 with 1 Axes>"
      ]
     },
     "metadata": {},
     "output_type": "display_data"
    },
    {
     "data": {
      "text/plain": [
       "<Axes: title={'center': 'Distortion Score Elbow for KMeans Clustering'}, xlabel='k', ylabel='distortion score'>"
      ]
     },
     "execution_count": 37,
     "metadata": {},
     "output_type": "execute_result"
    }
   ],
   "source": [
    "# Use Elbow Method to determine best k\n",
    "model = KMeans(n_init=10, random_state=42)\n",
    "visualizer = KElbowVisualizer(model, k=(2,10), metric='distortion', timings=False)\n",
    "visualizer.fit(rfm_scaled)\n",
    "visualizer.show()"
   ]
  },
  {
   "cell_type": "code",
   "execution_count": 38,
   "id": "228ce0b3-d457-4a3c-8be4-67f2c4a7079b",
   "metadata": {},
   "outputs": [
    {
     "data": {
      "text/html": [
       "<div>\n",
       "<style scoped>\n",
       "    .dataframe tbody tr th:only-of-type {\n",
       "        vertical-align: middle;\n",
       "    }\n",
       "\n",
       "    .dataframe tbody tr th {\n",
       "        vertical-align: top;\n",
       "    }\n",
       "\n",
       "    .dataframe thead th {\n",
       "        text-align: right;\n",
       "    }\n",
       "</style>\n",
       "<table border=\"1\" class=\"dataframe\">\n",
       "  <thead>\n",
       "    <tr style=\"text-align: right;\">\n",
       "      <th></th>\n",
       "      <th>CustomerID</th>\n",
       "      <th>Recency</th>\n",
       "      <th>Frequency</th>\n",
       "      <th>Monetary</th>\n",
       "      <th>Cluster</th>\n",
       "    </tr>\n",
       "  </thead>\n",
       "  <tbody>\n",
       "    <tr>\n",
       "      <th>0</th>\n",
       "      <td>12346</td>\n",
       "      <td>325</td>\n",
       "      <td>1</td>\n",
       "      <td>77183.60</td>\n",
       "      <td>0</td>\n",
       "    </tr>\n",
       "    <tr>\n",
       "      <th>1</th>\n",
       "      <td>12347</td>\n",
       "      <td>1</td>\n",
       "      <td>7</td>\n",
       "      <td>4310.00</td>\n",
       "      <td>3</td>\n",
       "    </tr>\n",
       "    <tr>\n",
       "      <th>2</th>\n",
       "      <td>12348</td>\n",
       "      <td>74</td>\n",
       "      <td>4</td>\n",
       "      <td>1797.24</td>\n",
       "      <td>3</td>\n",
       "    </tr>\n",
       "    <tr>\n",
       "      <th>3</th>\n",
       "      <td>12349</td>\n",
       "      <td>18</td>\n",
       "      <td>1</td>\n",
       "      <td>1757.55</td>\n",
       "      <td>3</td>\n",
       "    </tr>\n",
       "    <tr>\n",
       "      <th>4</th>\n",
       "      <td>12350</td>\n",
       "      <td>309</td>\n",
       "      <td>1</td>\n",
       "      <td>334.40</td>\n",
       "      <td>1</td>\n",
       "    </tr>\n",
       "  </tbody>\n",
       "</table>\n",
       "</div>"
      ],
      "text/plain": [
       "   CustomerID  Recency  Frequency  Monetary  Cluster\n",
       "0       12346      325          1  77183.60        0\n",
       "1       12347        1          7   4310.00        3\n",
       "2       12348       74          4   1797.24        3\n",
       "3       12349       18          1   1757.55        3\n",
       "4       12350      309          1    334.40        1"
      ]
     },
     "execution_count": 38,
     "metadata": {},
     "output_type": "execute_result"
    }
   ],
   "source": [
    "# Apply K-Means Clustering\n",
    "optimal_k = 4  \n",
    "\n",
    "kmeans = KMeans(n_clusters=optimal_k, random_state=42, n_init=10)\n",
    "rfm[\"Cluster\"] = kmeans.fit_predict(rfm_scaled)\n",
    "\n",
    "# Reset index for CustomerID visibility\n",
    "rfm = rfm.reset_index()\n",
    "\n",
    "# Display first few rows with assigned clusters\n",
    "rfm.head()"
   ]
  },
  {
   "cell_type": "code",
   "execution_count": 39,
   "id": "483ea965-4438-49f8-bdea-f71dd8074c4c",
   "metadata": {},
   "outputs": [
    {
     "name": "stdout",
     "output_type": "stream",
     "text": [
      "\n",
      "✅ Average RFM Values Per Segment:\n",
      "         Recency  Frequency   Monetary\n",
      "Cluster                               \n",
      "0          14.67      22.05   12435.09\n",
      "1         247.56       1.55     476.33\n",
      "2           6.38      82.69  127187.96\n",
      "3          42.91       3.66    1344.28\n"
     ]
    }
   ],
   "source": [
    "# Compute mean RFM values per cluster\n",
    "rfm_avg = rfm.groupby(\"Cluster\")[[\"Recency\", \"Frequency\", \"Monetary\"]].mean().round(2)\n",
    "\n",
    "# Display the average RFM values per segment\n",
    "print(\"\\n✅ Average RFM Values Per Segment:\")\n",
    "print(rfm_avg)"
   ]
  },
  {
   "cell_type": "code",
   "execution_count": 40,
   "id": "63dda096-b1c3-47da-965b-7ec6f70681b0",
   "metadata": {},
   "outputs": [
    {
     "name": "stdout",
     "output_type": "stream",
     "text": [
      "Cluster_0 - 211 Customers\n",
      "[12346, 12431, 12437, 12471, 12474, 12540, 12569, 12583, 12621, 12678]\n",
      "...\n",
      "Cluster_3 - 3053 Customers\n",
      "[12347, 12348, 12349, 12352, 12356, 12357, 12358, 12359, 12360, 12362]\n",
      "...\n",
      "Cluster_1 - 1062 Customers\n",
      "[12350, 12353, 12354, 12355, 12361, 12365, 12373, 12377, 12383, 12386]\n",
      "...\n",
      "Cluster_2 - 13 Customers\n",
      "[12415, 12748, 13089, 14156, 14646, 14911, 15311, 16029, 16446, 17450]\n",
      "...\n"
     ]
    }
   ],
   "source": [
    "# Store customer IDs per segment\n",
    "segment_dict = {}\n",
    "\n",
    "for cluster in rfm[\"Cluster\"].unique():\n",
    "    segment_dict[f\"Cluster_{cluster}\"] = rfm[rfm[\"Cluster\"] == cluster][\"CustomerID\"].tolist()\n",
    "\n",
    "# Display first 10 customer IDs per segment\n",
    "for cluster, customers in segment_dict.items():\n",
    "    print(f\"{cluster} - {len(customers)} Customers\")\n",
    "    print(customers[:10])\n",
    "    print(\"...\")"
   ]
  },
  {
   "cell_type": "markdown",
   "id": "1acb7c34-de43-4d6e-8ea2-b2f159518818",
   "metadata": {},
   "source": [
    "Each customer segment has unique characteristics that require different marketing strategies based on their behavior.\n",
    "\n",
    "- VIP & High-Value Customers (Cluster 1):\n",
    "\n",
    "Offer exclusive VIP rewards, premium support, and early access to sales.\n",
    "Personalized offers and discounts to maintain engagement.\n",
    "High-value upselling and cross-selling based on purchase history.\n",
    "\n",
    "- Churn-Risk Customers (Cluster 2):\n",
    "\n",
    "Implement win-back campaigns with strong incentives (special discounts, personalized re-engagement emails).\n",
    "Targeted remarketing ads to encourage a return purchase.\n",
    "Personalized outreach with offers tailored to their past purchases.\n",
    "- Regular & Mid-Value Customers (Cluster 0):\n",
    "\n",
    "Introduce seasonal promotions and bundled offers to increase spending.\n",
    "Use loyalty incentives to encourage more frequent purchases.\n",
    "Implement cross-sell and upsell strategies based on past transactions.\n",
    "- Frequent Mid-Value Buyers (Cluster 3):\n",
    "\n",
    "Encourage larger purchases with volume-based discounts and bundling deals.\n",
    "Offer exclusive loyalty perks for continued engagement.\n",
    "Send targeted offers based on shopping patterns to boost revenue per transaction.\n",
    "This segmentation strategy enables personalized engagement, optimizes marketing efficiency, and drives revenue growth!"
   ]
  },
  {
   "cell_type": "code",
   "execution_count": null,
   "id": "83169fa1-bc0d-44f7-bf3a-fcecfc62650e",
   "metadata": {},
   "outputs": [],
   "source": []
  }
 ],
 "metadata": {
  "kernelspec": {
   "display_name": "Python 3 (ipykernel)",
   "language": "python",
   "name": "python3"
  },
  "language_info": {
   "codemirror_mode": {
    "name": "ipython",
    "version": 3
   },
   "file_extension": ".py",
   "mimetype": "text/x-python",
   "name": "python",
   "nbconvert_exporter": "python",
   "pygments_lexer": "ipython3",
   "version": "3.12.4"
  }
 },
 "nbformat": 4,
 "nbformat_minor": 5
}
